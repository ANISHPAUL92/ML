{
 "cells": [
  {
   "cell_type": "code",
   "execution_count": 7,
   "metadata": {},
   "outputs": [
    {
     "data": {
      "text/plain": [
       "array([[-1.81931251e+00, -1.98538810e-04],\n",
       "       [ 1.56853424e+00,  5.39470758e-01],\n",
       "       [-1.19944292e+00,  1.61950570e+00],\n",
       "       [ 2.15977371e+00,  2.74761913e-01],\n",
       "       [ 2.18023756e+00, -3.01375889e-01]])"
      ]
     },
     "execution_count": 7,
     "metadata": {},
     "output_type": "execute_result"
    }
   ],
   "source": [
    "import numpy as np\n",
    "from sklearn import decomposition\n",
    "from sklearn import datasets\n",
    "\n",
    "\n",
    "iris = datasets.load_iris()\n",
    "X = iris.data\n",
    "y = iris.target\n",
    "\n",
    "samples = [[5.0,3.4,2.4,0.3],[6.0,4.1,5.5,1.5],[7.1,3.7,2.1,0.7],[5.8,4.1,6.4,1.2],[5.6,3.5,6.7,0.6]]\n",
    "\n",
    "pca = decomposition.PCA(n_components = 2)\n",
    "pca.fit(X)\n",
    "\n",
    "#new_samples = pca.transform(X)\n",
    "new_samples1 = pca.transform(samples)\n",
    "new_samples1"
   ]
  },
  {
   "cell_type": "code",
   "execution_count": null,
   "metadata": {},
   "outputs": [],
   "source": []
  }
 ],
 "metadata": {
  "kernelspec": {
   "display_name": "Python 3",
   "language": "python",
   "name": "python3"
  },
  "language_info": {
   "codemirror_mode": {
    "name": "ipython",
    "version": 3
   },
   "file_extension": ".py",
   "mimetype": "text/x-python",
   "name": "python",
   "nbconvert_exporter": "python",
   "pygments_lexer": "ipython3",
   "version": "3.8.5"
  }
 },
 "nbformat": 4,
 "nbformat_minor": 4
}
