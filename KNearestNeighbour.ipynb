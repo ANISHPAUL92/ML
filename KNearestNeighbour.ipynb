{
 "cells": [
  {
   "cell_type": "code",
   "execution_count": 9,
   "metadata": {},
   "outputs": [
    {
     "name": "stdout",
     "output_type": "stream",
     "text": [
      "[2 0 1 1 0]\n"
     ]
    }
   ],
   "source": [
    "import numpy as np \n",
    "import pandas as pd\n",
    "from sklearn.datasets import load_iris\n",
    "from sklearn.neighbors import KNeighborsClassifier\n",
    "from sklearn.model_selection import train_test_split\n",
    "from sklearn.metrics import classification_report\n",
    "\n",
    "\n",
    "names = ['sepal-length','sepal_width','petal_length','petal_width', 'Class']\n",
    "\n",
    "#dataset = pd.read_csv(url,names=names)\n",
    "\n",
    "iris = load_iris()\n",
    "X = iris.data [:,] # 1 and 3 are the features we will use here.\n",
    "y = iris.target\n",
    "SampleTest = [[7.3,3.5,5.7,0.4],[7.2,2.6,1.6,1.4],[6.1,2.2,4.5,2.0],[4.9,2.3,2.0,2.3],[6.2,2.0,1.7,0.3]]\n",
    "\n",
    "#X_train, X_test, y_train, y_test = train_test_split( X, y, test_size=.1,random_state=0)\n",
    "\n",
    "classifier = KNeighborsClassifier(n_neighbors=1)\n",
    "classifier.fit(X,y)\n",
    "\n",
    "y_pred = classifier.predict(SampleTest)\n",
    "print(y_pred)\n",
    "\n",
    "\n",
    "\n",
    "\n"
   ]
  },
  {
   "cell_type": "code",
   "execution_count": null,
   "metadata": {},
   "outputs": [],
   "source": []
  }
 ],
 "metadata": {
  "kernelspec": {
   "display_name": "Python 3",
   "language": "python",
   "name": "python3"
  },
  "language_info": {
   "codemirror_mode": {
    "name": "ipython",
    "version": 3
   },
   "file_extension": ".py",
   "mimetype": "text/x-python",
   "name": "python",
   "nbconvert_exporter": "python",
   "pygments_lexer": "ipython3",
   "version": "3.8.5"
  }
 },
 "nbformat": 4,
 "nbformat_minor": 4
}
